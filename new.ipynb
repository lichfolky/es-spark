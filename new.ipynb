{
 "cells": [
  {
   "cell_type": "markdown",
   "id": "06896f77-12a7-4995-a6a1-dcfd1725854c",
   "metadata": {},
   "source": [
    "# jupyter!"
   ]
  },
  {
   "cell_type": "code",
   "execution_count": 1,
   "id": "b2d51136",
   "metadata": {},
   "outputs": [
    {
     "name": "stdout",
     "output_type": "stream",
     "text": [
      "ciao\n"
     ]
    }
   ],
   "source": [
    "print(\"ciao\")"
   ]
  }
 ],
 "metadata": {
  "kernelspec": {
   "display_name": "Python 3 (ipykernel)",
   "language": "python",
   "name": "python3"
  },
  "language_info": {
   "codemirror_mode": {
    "name": "ipython",
    "version": 3
   },
   "file_extension": ".py",
   "mimetype": "text/x-python",
   "name": "python",
   "nbconvert_exporter": "python",
   "pygments_lexer": "ipython3",
   "version": "3.11.9"
  }
 },
 "nbformat": 4,
 "nbformat_minor": 5
}
